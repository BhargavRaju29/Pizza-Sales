{
 "cells": [
  {
   "cell_type": "code",
   "execution_count": 7,
   "id": "aaf8a89c",
   "metadata": {},
   "outputs": [],
   "source": [
    "#import libarires\n",
    "\n",
    "import pandas as pd \n",
    "import numpy as np"
   ]
  },
  {
   "cell_type": "code",
   "execution_count": 3,
   "id": "d71968fc",
   "metadata": {},
   "outputs": [],
   "source": [
    "data = pd.read_csv(r\"C:\\Users\\gbhar\\OneDrive\\Desktop\\pizza_sales.csv\")"
   ]
  },
  {
   "cell_type": "code",
   "execution_count": 4,
   "id": "84df5dee",
   "metadata": {},
   "outputs": [
    {
     "data": {
      "text/html": [
       "<div>\n",
       "<style scoped>\n",
       "    .dataframe tbody tr th:only-of-type {\n",
       "        vertical-align: middle;\n",
       "    }\n",
       "\n",
       "    .dataframe tbody tr th {\n",
       "        vertical-align: top;\n",
       "    }\n",
       "\n",
       "    .dataframe thead th {\n",
       "        text-align: right;\n",
       "    }\n",
       "</style>\n",
       "<table border=\"1\" class=\"dataframe\">\n",
       "  <thead>\n",
       "    <tr style=\"text-align: right;\">\n",
       "      <th></th>\n",
       "      <th>pizza_id</th>\n",
       "      <th>order_id</th>\n",
       "      <th>pizza_name_id</th>\n",
       "      <th>quantity</th>\n",
       "      <th>order_date</th>\n",
       "      <th>order_time</th>\n",
       "      <th>unit_price</th>\n",
       "      <th>total_price</th>\n",
       "      <th>pizza_size</th>\n",
       "      <th>pizza_category</th>\n",
       "      <th>pizza_ingredients</th>\n",
       "      <th>pizza_name</th>\n",
       "    </tr>\n",
       "  </thead>\n",
       "  <tbody>\n",
       "    <tr>\n",
       "      <th>0</th>\n",
       "      <td>1</td>\n",
       "      <td>1</td>\n",
       "      <td>hawaiian_m</td>\n",
       "      <td>1</td>\n",
       "      <td>1/1/2015</td>\n",
       "      <td>11:38:36</td>\n",
       "      <td>13.25</td>\n",
       "      <td>13.25</td>\n",
       "      <td>M</td>\n",
       "      <td>Classic</td>\n",
       "      <td>Sliced Ham, Pineapple, Mozzarella Cheese</td>\n",
       "      <td>The Hawaiian Pizza</td>\n",
       "    </tr>\n",
       "    <tr>\n",
       "      <th>1</th>\n",
       "      <td>2</td>\n",
       "      <td>2</td>\n",
       "      <td>classic_dlx_m</td>\n",
       "      <td>1</td>\n",
       "      <td>1/1/2015</td>\n",
       "      <td>11:57:40</td>\n",
       "      <td>16.00</td>\n",
       "      <td>16.00</td>\n",
       "      <td>M</td>\n",
       "      <td>Classic</td>\n",
       "      <td>Pepperoni, Mushrooms, Red Onions, Red Peppers,...</td>\n",
       "      <td>The Classic Deluxe Pizza</td>\n",
       "    </tr>\n",
       "    <tr>\n",
       "      <th>2</th>\n",
       "      <td>3</td>\n",
       "      <td>2</td>\n",
       "      <td>five_cheese_l</td>\n",
       "      <td>1</td>\n",
       "      <td>1/1/2015</td>\n",
       "      <td>11:57:40</td>\n",
       "      <td>18.50</td>\n",
       "      <td>18.50</td>\n",
       "      <td>L</td>\n",
       "      <td>Veggie</td>\n",
       "      <td>Mozzarella Cheese, Provolone Cheese, Smoked Go...</td>\n",
       "      <td>The Five Cheese Pizza</td>\n",
       "    </tr>\n",
       "    <tr>\n",
       "      <th>3</th>\n",
       "      <td>4</td>\n",
       "      <td>2</td>\n",
       "      <td>ital_supr_l</td>\n",
       "      <td>1</td>\n",
       "      <td>1/1/2015</td>\n",
       "      <td>11:57:40</td>\n",
       "      <td>20.75</td>\n",
       "      <td>20.75</td>\n",
       "      <td>L</td>\n",
       "      <td>Supreme</td>\n",
       "      <td>Calabrese Salami, Capocollo, Tomatoes, Red Oni...</td>\n",
       "      <td>The Italian Supreme Pizza</td>\n",
       "    </tr>\n",
       "    <tr>\n",
       "      <th>4</th>\n",
       "      <td>5</td>\n",
       "      <td>2</td>\n",
       "      <td>mexicana_m</td>\n",
       "      <td>1</td>\n",
       "      <td>1/1/2015</td>\n",
       "      <td>11:57:40</td>\n",
       "      <td>16.00</td>\n",
       "      <td>16.00</td>\n",
       "      <td>M</td>\n",
       "      <td>Veggie</td>\n",
       "      <td>Tomatoes, Red Peppers, Jalapeno Peppers, Red O...</td>\n",
       "      <td>The Mexicana Pizza</td>\n",
       "    </tr>\n",
       "    <tr>\n",
       "      <th>...</th>\n",
       "      <td>...</td>\n",
       "      <td>...</td>\n",
       "      <td>...</td>\n",
       "      <td>...</td>\n",
       "      <td>...</td>\n",
       "      <td>...</td>\n",
       "      <td>...</td>\n",
       "      <td>...</td>\n",
       "      <td>...</td>\n",
       "      <td>...</td>\n",
       "      <td>...</td>\n",
       "      <td>...</td>\n",
       "    </tr>\n",
       "    <tr>\n",
       "      <th>48615</th>\n",
       "      <td>48616</td>\n",
       "      <td>21348</td>\n",
       "      <td>ckn_alfredo_m</td>\n",
       "      <td>1</td>\n",
       "      <td>31-12-2015</td>\n",
       "      <td>21:23:10</td>\n",
       "      <td>16.75</td>\n",
       "      <td>16.75</td>\n",
       "      <td>M</td>\n",
       "      <td>Chicken</td>\n",
       "      <td>Chicken, Red Onions, Red Peppers, Mushrooms, A...</td>\n",
       "      <td>The Chicken Alfredo Pizza</td>\n",
       "    </tr>\n",
       "    <tr>\n",
       "      <th>48616</th>\n",
       "      <td>48617</td>\n",
       "      <td>21348</td>\n",
       "      <td>four_cheese_l</td>\n",
       "      <td>1</td>\n",
       "      <td>31-12-2015</td>\n",
       "      <td>21:23:10</td>\n",
       "      <td>17.95</td>\n",
       "      <td>17.95</td>\n",
       "      <td>L</td>\n",
       "      <td>Veggie</td>\n",
       "      <td>Ricotta Cheese, Gorgonzola Piccante Cheese, Mo...</td>\n",
       "      <td>The Four Cheese Pizza</td>\n",
       "    </tr>\n",
       "    <tr>\n",
       "      <th>48617</th>\n",
       "      <td>48618</td>\n",
       "      <td>21348</td>\n",
       "      <td>napolitana_s</td>\n",
       "      <td>1</td>\n",
       "      <td>31-12-2015</td>\n",
       "      <td>21:23:10</td>\n",
       "      <td>12.00</td>\n",
       "      <td>12.00</td>\n",
       "      <td>S</td>\n",
       "      <td>Classic</td>\n",
       "      <td>Tomatoes, Anchovies, Green Olives, Red Onions,...</td>\n",
       "      <td>The Napolitana Pizza</td>\n",
       "    </tr>\n",
       "    <tr>\n",
       "      <th>48618</th>\n",
       "      <td>48619</td>\n",
       "      <td>21349</td>\n",
       "      <td>mexicana_l</td>\n",
       "      <td>1</td>\n",
       "      <td>31-12-2015</td>\n",
       "      <td>22:09:54</td>\n",
       "      <td>20.25</td>\n",
       "      <td>20.25</td>\n",
       "      <td>L</td>\n",
       "      <td>Veggie</td>\n",
       "      <td>Tomatoes, Red Peppers, Jalapeno Peppers, Red O...</td>\n",
       "      <td>The Mexicana Pizza</td>\n",
       "    </tr>\n",
       "    <tr>\n",
       "      <th>48619</th>\n",
       "      <td>48620</td>\n",
       "      <td>21350</td>\n",
       "      <td>bbq_ckn_s</td>\n",
       "      <td>1</td>\n",
       "      <td>31-12-2015</td>\n",
       "      <td>23:02:05</td>\n",
       "      <td>12.75</td>\n",
       "      <td>12.75</td>\n",
       "      <td>S</td>\n",
       "      <td>Chicken</td>\n",
       "      <td>Barbecued Chicken, Red Peppers, Green Peppers,...</td>\n",
       "      <td>The Barbecue Chicken Pizza</td>\n",
       "    </tr>\n",
       "  </tbody>\n",
       "</table>\n",
       "<p>48620 rows × 12 columns</p>\n",
       "</div>"
      ],
      "text/plain": [
       "       pizza_id  order_id  pizza_name_id  quantity  order_date order_time  \\\n",
       "0             1         1     hawaiian_m         1    1/1/2015   11:38:36   \n",
       "1             2         2  classic_dlx_m         1    1/1/2015   11:57:40   \n",
       "2             3         2  five_cheese_l         1    1/1/2015   11:57:40   \n",
       "3             4         2    ital_supr_l         1    1/1/2015   11:57:40   \n",
       "4             5         2     mexicana_m         1    1/1/2015   11:57:40   \n",
       "...         ...       ...            ...       ...         ...        ...   \n",
       "48615     48616     21348  ckn_alfredo_m         1  31-12-2015   21:23:10   \n",
       "48616     48617     21348  four_cheese_l         1  31-12-2015   21:23:10   \n",
       "48617     48618     21348   napolitana_s         1  31-12-2015   21:23:10   \n",
       "48618     48619     21349     mexicana_l         1  31-12-2015   22:09:54   \n",
       "48619     48620     21350      bbq_ckn_s         1  31-12-2015   23:02:05   \n",
       "\n",
       "       unit_price  total_price pizza_size pizza_category  \\\n",
       "0           13.25        13.25          M        Classic   \n",
       "1           16.00        16.00          M        Classic   \n",
       "2           18.50        18.50          L         Veggie   \n",
       "3           20.75        20.75          L        Supreme   \n",
       "4           16.00        16.00          M         Veggie   \n",
       "...           ...          ...        ...            ...   \n",
       "48615       16.75        16.75          M        Chicken   \n",
       "48616       17.95        17.95          L         Veggie   \n",
       "48617       12.00        12.00          S        Classic   \n",
       "48618       20.25        20.25          L         Veggie   \n",
       "48619       12.75        12.75          S        Chicken   \n",
       "\n",
       "                                       pizza_ingredients  \\\n",
       "0               Sliced Ham, Pineapple, Mozzarella Cheese   \n",
       "1      Pepperoni, Mushrooms, Red Onions, Red Peppers,...   \n",
       "2      Mozzarella Cheese, Provolone Cheese, Smoked Go...   \n",
       "3      Calabrese Salami, Capocollo, Tomatoes, Red Oni...   \n",
       "4      Tomatoes, Red Peppers, Jalapeno Peppers, Red O...   \n",
       "...                                                  ...   \n",
       "48615  Chicken, Red Onions, Red Peppers, Mushrooms, A...   \n",
       "48616  Ricotta Cheese, Gorgonzola Piccante Cheese, Mo...   \n",
       "48617  Tomatoes, Anchovies, Green Olives, Red Onions,...   \n",
       "48618  Tomatoes, Red Peppers, Jalapeno Peppers, Red O...   \n",
       "48619  Barbecued Chicken, Red Peppers, Green Peppers,...   \n",
       "\n",
       "                       pizza_name  \n",
       "0              The Hawaiian Pizza  \n",
       "1        The Classic Deluxe Pizza  \n",
       "2           The Five Cheese Pizza  \n",
       "3       The Italian Supreme Pizza  \n",
       "4              The Mexicana Pizza  \n",
       "...                           ...  \n",
       "48615   The Chicken Alfredo Pizza  \n",
       "48616       The Four Cheese Pizza  \n",
       "48617        The Napolitana Pizza  \n",
       "48618          The Mexicana Pizza  \n",
       "48619  The Barbecue Chicken Pizza  \n",
       "\n",
       "[48620 rows x 12 columns]"
      ]
     },
     "execution_count": 4,
     "metadata": {},
     "output_type": "execute_result"
    }
   ],
   "source": [
    "data\n"
   ]
  },
  {
   "cell_type": "code",
   "execution_count": 5,
   "id": "4839e450",
   "metadata": {},
   "outputs": [
    {
     "data": {
      "text/html": [
       "<div>\n",
       "<style scoped>\n",
       "    .dataframe tbody tr th:only-of-type {\n",
       "        vertical-align: middle;\n",
       "    }\n",
       "\n",
       "    .dataframe tbody tr th {\n",
       "        vertical-align: top;\n",
       "    }\n",
       "\n",
       "    .dataframe thead th {\n",
       "        text-align: right;\n",
       "    }\n",
       "</style>\n",
       "<table border=\"1\" class=\"dataframe\">\n",
       "  <thead>\n",
       "    <tr style=\"text-align: right;\">\n",
       "      <th></th>\n",
       "      <th>pizza_id</th>\n",
       "      <th>order_id</th>\n",
       "      <th>pizza_name_id</th>\n",
       "      <th>quantity</th>\n",
       "      <th>order_date</th>\n",
       "      <th>order_time</th>\n",
       "      <th>unit_price</th>\n",
       "      <th>total_price</th>\n",
       "      <th>pizza_size</th>\n",
       "      <th>pizza_category</th>\n",
       "      <th>pizza_ingredients</th>\n",
       "      <th>pizza_name</th>\n",
       "    </tr>\n",
       "  </thead>\n",
       "  <tbody>\n",
       "    <tr>\n",
       "      <th>0</th>\n",
       "      <td>1</td>\n",
       "      <td>1</td>\n",
       "      <td>hawaiian_m</td>\n",
       "      <td>1</td>\n",
       "      <td>1/1/2015</td>\n",
       "      <td>11:38:36</td>\n",
       "      <td>13.25</td>\n",
       "      <td>13.25</td>\n",
       "      <td>M</td>\n",
       "      <td>Classic</td>\n",
       "      <td>Sliced Ham, Pineapple, Mozzarella Cheese</td>\n",
       "      <td>The Hawaiian Pizza</td>\n",
       "    </tr>\n",
       "    <tr>\n",
       "      <th>1</th>\n",
       "      <td>2</td>\n",
       "      <td>2</td>\n",
       "      <td>classic_dlx_m</td>\n",
       "      <td>1</td>\n",
       "      <td>1/1/2015</td>\n",
       "      <td>11:57:40</td>\n",
       "      <td>16.00</td>\n",
       "      <td>16.00</td>\n",
       "      <td>M</td>\n",
       "      <td>Classic</td>\n",
       "      <td>Pepperoni, Mushrooms, Red Onions, Red Peppers,...</td>\n",
       "      <td>The Classic Deluxe Pizza</td>\n",
       "    </tr>\n",
       "    <tr>\n",
       "      <th>2</th>\n",
       "      <td>3</td>\n",
       "      <td>2</td>\n",
       "      <td>five_cheese_l</td>\n",
       "      <td>1</td>\n",
       "      <td>1/1/2015</td>\n",
       "      <td>11:57:40</td>\n",
       "      <td>18.50</td>\n",
       "      <td>18.50</td>\n",
       "      <td>L</td>\n",
       "      <td>Veggie</td>\n",
       "      <td>Mozzarella Cheese, Provolone Cheese, Smoked Go...</td>\n",
       "      <td>The Five Cheese Pizza</td>\n",
       "    </tr>\n",
       "    <tr>\n",
       "      <th>3</th>\n",
       "      <td>4</td>\n",
       "      <td>2</td>\n",
       "      <td>ital_supr_l</td>\n",
       "      <td>1</td>\n",
       "      <td>1/1/2015</td>\n",
       "      <td>11:57:40</td>\n",
       "      <td>20.75</td>\n",
       "      <td>20.75</td>\n",
       "      <td>L</td>\n",
       "      <td>Supreme</td>\n",
       "      <td>Calabrese Salami, Capocollo, Tomatoes, Red Oni...</td>\n",
       "      <td>The Italian Supreme Pizza</td>\n",
       "    </tr>\n",
       "    <tr>\n",
       "      <th>4</th>\n",
       "      <td>5</td>\n",
       "      <td>2</td>\n",
       "      <td>mexicana_m</td>\n",
       "      <td>1</td>\n",
       "      <td>1/1/2015</td>\n",
       "      <td>11:57:40</td>\n",
       "      <td>16.00</td>\n",
       "      <td>16.00</td>\n",
       "      <td>M</td>\n",
       "      <td>Veggie</td>\n",
       "      <td>Tomatoes, Red Peppers, Jalapeno Peppers, Red O...</td>\n",
       "      <td>The Mexicana Pizza</td>\n",
       "    </tr>\n",
       "  </tbody>\n",
       "</table>\n",
       "</div>"
      ],
      "text/plain": [
       "   pizza_id  order_id  pizza_name_id  quantity order_date order_time  \\\n",
       "0         1         1     hawaiian_m         1   1/1/2015   11:38:36   \n",
       "1         2         2  classic_dlx_m         1   1/1/2015   11:57:40   \n",
       "2         3         2  five_cheese_l         1   1/1/2015   11:57:40   \n",
       "3         4         2    ital_supr_l         1   1/1/2015   11:57:40   \n",
       "4         5         2     mexicana_m         1   1/1/2015   11:57:40   \n",
       "\n",
       "   unit_price  total_price pizza_size pizza_category  \\\n",
       "0       13.25        13.25          M        Classic   \n",
       "1       16.00        16.00          M        Classic   \n",
       "2       18.50        18.50          L         Veggie   \n",
       "3       20.75        20.75          L        Supreme   \n",
       "4       16.00        16.00          M         Veggie   \n",
       "\n",
       "                                   pizza_ingredients  \\\n",
       "0           Sliced Ham, Pineapple, Mozzarella Cheese   \n",
       "1  Pepperoni, Mushrooms, Red Onions, Red Peppers,...   \n",
       "2  Mozzarella Cheese, Provolone Cheese, Smoked Go...   \n",
       "3  Calabrese Salami, Capocollo, Tomatoes, Red Oni...   \n",
       "4  Tomatoes, Red Peppers, Jalapeno Peppers, Red O...   \n",
       "\n",
       "                  pizza_name  \n",
       "0         The Hawaiian Pizza  \n",
       "1   The Classic Deluxe Pizza  \n",
       "2      The Five Cheese Pizza  \n",
       "3  The Italian Supreme Pizza  \n",
       "4         The Mexicana Pizza  "
      ]
     },
     "execution_count": 5,
     "metadata": {},
     "output_type": "execute_result"
    }
   ],
   "source": [
    "# Analyze data frames\n",
    "\n",
    "data.head()"
   ]
  },
  {
   "cell_type": "code",
   "execution_count": 11,
   "id": "674fa680",
   "metadata": {},
   "outputs": [
    {
     "data": {
      "text/plain": [
       "(48620, 12)"
      ]
     },
     "execution_count": 11,
     "metadata": {},
     "output_type": "execute_result"
    }
   ],
   "source": [
    "data.shape"
   ]
  },
  {
   "cell_type": "code",
   "execution_count": 12,
   "id": "62117456",
   "metadata": {},
   "outputs": [
    {
     "data": {
      "text/plain": [
       "RangeIndex(start=0, stop=48620, step=1)"
      ]
     },
     "execution_count": 12,
     "metadata": {},
     "output_type": "execute_result"
    }
   ],
   "source": [
    "data.index"
   ]
  },
  {
   "cell_type": "code",
   "execution_count": 13,
   "id": "50db5159",
   "metadata": {},
   "outputs": [
    {
     "data": {
      "text/plain": [
       "Index(['pizza_id', 'order_id', 'pizza_name_id', 'quantity', 'order_date',\n",
       "       'order_time', 'unit_price', 'total_price', 'pizza_size',\n",
       "       'pizza_category', 'pizza_ingredients', 'pizza_name'],\n",
       "      dtype='object')"
      ]
     },
     "execution_count": 13,
     "metadata": {},
     "output_type": "execute_result"
    }
   ],
   "source": [
    "data.columns\n"
   ]
  },
  {
   "cell_type": "code",
   "execution_count": 14,
   "id": "ac67429e",
   "metadata": {},
   "outputs": [
    {
     "data": {
      "text/plain": [
       "pizza_id               int64\n",
       "order_id               int64\n",
       "pizza_name_id         object\n",
       "quantity               int64\n",
       "order_date            object\n",
       "order_time            object\n",
       "unit_price           float64\n",
       "total_price          float64\n",
       "pizza_size            object\n",
       "pizza_category        object\n",
       "pizza_ingredients     object\n",
       "pizza_name            object\n",
       "dtype: object"
      ]
     },
     "execution_count": 14,
     "metadata": {},
     "output_type": "execute_result"
    }
   ],
   "source": [
    "data.dtypes"
   ]
  },
  {
   "cell_type": "code",
   "execution_count": 15,
   "id": "e50c96db",
   "metadata": {},
   "outputs": [
    {
     "data": {
      "text/plain": [
       "array([    1,     2,     3, ..., 21348, 21349, 21350], dtype=int64)"
      ]
     },
     "execution_count": 15,
     "metadata": {},
     "output_type": "execute_result"
    }
   ],
   "source": [
    "data['order_id'].unique()"
   ]
  },
  {
   "cell_type": "code",
   "execution_count": 16,
   "id": "d1fe9f0e",
   "metadata": {},
   "outputs": [
    {
     "data": {
      "text/plain": [
       "array(['Sliced Ham, Pineapple, Mozzarella Cheese',\n",
       "       'Pepperoni, Mushrooms, Red Onions, Red Peppers, Bacon',\n",
       "       'Mozzarella Cheese, Provolone Cheese, Smoked Gouda Cheese, Romano Cheese, Blue Cheese, Garlic',\n",
       "       'Calabrese Salami, Capocollo, Tomatoes, Red Onions, Green Olives, Garlic',\n",
       "       'Tomatoes, Red Peppers, Jalapeno Peppers, Red Onions, Cilantro, Corn, Chipotle Sauce, Garlic',\n",
       "       'Chicken, Pineapple, Tomatoes, Red Peppers, Thai Sweet Chilli Sauce',\n",
       "       'Prosciutto di San Daniele, Arugula, Mozzarella Cheese',\n",
       "       'Barbecued Chicken, Red Peppers, Green Peppers, Tomatoes, Red Onions, Barbecue Sauce',\n",
       "       'Kalamata Olives, Feta Cheese, Tomatoes, Garlic, Beef Chuck Roast, Red Onions',\n",
       "       'Spinach, Red Onions, Pepperoni, Tomatoes, Artichokes, Kalamata Olives, Garlic, Asiago Cheese',\n",
       "       'Spinach, Mushrooms, Tomatoes, Green Olives, Feta Cheese',\n",
       "       'Capocollo, Red Peppers, Tomatoes, Goat Cheese, Garlic, Oregano',\n",
       "       'Capocollo, Tomatoes, Goat Cheese, Artichokes, Peperoncini verdi, Garlic',\n",
       "       'Spinach, Artichokes, Tomatoes, Sun-dried Tomatoes, Garlic, Pesto Sauce',\n",
       "       'Mushrooms, Tomatoes, Red Peppers, Green Peppers, Red Onions, Zucchini, Spinach, Garlic',\n",
       "       'Chicken, Tomatoes, Red Peppers, Red Onions, Jalapeno Peppers, Corn, Cilantro, Chipotle Sauce',\n",
       "       'Chicken, Artichoke, Spinach, Garlic, Jalapeno Peppers, Fontina Cheese, Gouda Cheese',\n",
       "       'Mozzarella Cheese, Pepperoni',\n",
       "       'Chicken, Tomatoes, Red Peppers, Spinach, Garlic, Pesto Sauce',\n",
       "       'Bacon, Pepperoni, Italian Sausage, Chorizo Sausage',\n",
       "       'Soppressata Salami, Fontina Cheese, Mozzarella Cheese, Mushrooms, Garlic',\n",
       "       'Ricotta Cheese, Gorgonzola Piccante Cheese, Mozzarella Cheese, Parmigiano Reggiano Cheese, Garlic',\n",
       "       'Tomatoes, Anchovies, Green Olives, Red Onions, Garlic',\n",
       "       '?duja Salami, Pancetta, Tomatoes, Red Onions, Friggitello Peppers, Garlic',\n",
       "       'Eggplant, Artichokes, Tomatoes, Zucchini, Red Peppers, Garlic, Pesto Sauce',\n",
       "       'Spinach, Artichokes, Kalamata Olives, Sun-dried Tomatoes, Feta Cheese, Plum Tomatoes, Red Onions',\n",
       "       'Genoa Salami, Capocollo, Pepperoni, Tomatoes, Asiago Cheese, Garlic',\n",
       "       'Spinach, Mushrooms, Red Onions, Feta Cheese, Garlic',\n",
       "       'Coarse Sicilian Salami, Tomatoes, Green Olives, Luganega Sausage, Onions, Garlic',\n",
       "       'Chicken, Red Onions, Red Peppers, Mushrooms, Asiago Cheese, Alfredo Sauce',\n",
       "       'Pepperoni, Mushrooms, Green Peppers',\n",
       "       'Brie Carre Cheese, Prosciutto, Caramelized Onions, Pears, Thyme, Garlic'],\n",
       "      dtype=object)"
      ]
     },
     "execution_count": 16,
     "metadata": {},
     "output_type": "execute_result"
    }
   ],
   "source": [
    "data['pizza_ingredients'].unique()"
   ]
  },
  {
   "cell_type": "code",
   "execution_count": 17,
   "id": "36156d02",
   "metadata": {},
   "outputs": [
    {
     "data": {
      "text/plain": [
       "pizza_id             48620\n",
       "order_id             21350\n",
       "pizza_name_id           91\n",
       "quantity                 4\n",
       "order_date             358\n",
       "order_time           16382\n",
       "unit_price              25\n",
       "total_price             56\n",
       "pizza_size               5\n",
       "pizza_category           4\n",
       "pizza_ingredients       32\n",
       "pizza_name              32\n",
       "dtype: int64"
      ]
     },
     "execution_count": 17,
     "metadata": {},
     "output_type": "execute_result"
    }
   ],
   "source": [
    "data.nunique()"
   ]
  },
  {
   "cell_type": "code",
   "execution_count": 18,
   "id": "aeea0778",
   "metadata": {},
   "outputs": [
    {
     "data": {
      "text/plain": [
       "pizza_id             48620\n",
       "order_id             48620\n",
       "pizza_name_id        48620\n",
       "quantity             48620\n",
       "order_date           48620\n",
       "order_time           48620\n",
       "unit_price           48620\n",
       "total_price          48620\n",
       "pizza_size           48620\n",
       "pizza_category       48620\n",
       "pizza_ingredients    48620\n",
       "pizza_name           48620\n",
       "dtype: int64"
      ]
     },
     "execution_count": 18,
     "metadata": {},
     "output_type": "execute_result"
    }
   ],
   "source": [
    "data.count()"
   ]
  },
  {
   "cell_type": "code",
   "execution_count": 19,
   "id": "571fb6d1",
   "metadata": {},
   "outputs": [
    {
     "name": "stdout",
     "output_type": "stream",
     "text": [
      "<class 'pandas.core.frame.DataFrame'>\n",
      "RangeIndex: 48620 entries, 0 to 48619\n",
      "Data columns (total 12 columns):\n",
      " #   Column             Non-Null Count  Dtype  \n",
      "---  ------             --------------  -----  \n",
      " 0   pizza_id           48620 non-null  int64  \n",
      " 1   order_id           48620 non-null  int64  \n",
      " 2   pizza_name_id      48620 non-null  object \n",
      " 3   quantity           48620 non-null  int64  \n",
      " 4   order_date         48620 non-null  object \n",
      " 5   order_time         48620 non-null  object \n",
      " 6   unit_price         48620 non-null  float64\n",
      " 7   total_price        48620 non-null  float64\n",
      " 8   pizza_size         48620 non-null  object \n",
      " 9   pizza_category     48620 non-null  object \n",
      " 10  pizza_ingredients  48620 non-null  object \n",
      " 11  pizza_name         48620 non-null  object \n",
      "dtypes: float64(2), int64(3), object(7)\n",
      "memory usage: 4.5+ MB\n"
     ]
    }
   ],
   "source": [
    "data.info()"
   ]
  },
  {
   "cell_type": "code",
   "execution_count": 21,
   "id": "a36b448f",
   "metadata": {},
   "outputs": [
    {
     "name": "stdout",
     "output_type": "stream",
     "text": [
      "Total Revenue: 817860.05\n"
     ]
    }
   ],
   "source": [
    "# Q1.Total Revenue from pizza sales \n",
    "\n",
    "# You can read your data into 'df' from a file or any other source.\n",
    "\n",
    "df = pd.DataFrame(data)\n",
    "\n",
    "# Calculate the total revenue\n",
    "total_revenue = df['total_price'].sum()\n",
    "\n",
    "# Print the total revenue\n",
    "print(\"Total Revenue:\", total_revenue)\n"
   ]
  },
  {
   "cell_type": "code",
   "execution_count": 33,
   "id": "0a06f5cd",
   "metadata": {},
   "outputs": [
    {
     "name": "stdout",
     "output_type": "stream",
     "text": [
      "Average Order Value: 38.30726229508197\n"
     ]
    }
   ],
   "source": [
    "# Q2. Calculate the Average Order Value\n",
    "# The average amount spent per order, calculated by dividing the total revenue by the total number of orders\n",
    "\n",
    "# Create a DataFrame from the data\n",
    "df = pd.DataFrame(data)\n",
    "\n",
    "\n",
    "average_order_value = df['total_price'].sum() / df['order_id'].nunique()\n",
    "\n",
    "# Print the average order value\n",
    "print(\"Average Order Value:\",average_order_value)\n",
    "\n"
   ]
  },
  {
   "cell_type": "code",
   "execution_count": 31,
   "id": "4668fc21",
   "metadata": {},
   "outputs": [
    {
     "name": "stdout",
     "output_type": "stream",
     "text": [
      "Total pizza sold: 49574\n"
     ]
    }
   ],
   "source": [
    "# Q3. Calculate Total pizza sold.\n",
    "\n",
    "df=pd.DataFrame(data)\n",
    "\n",
    "# Calculate the total pizza sold\n",
    "Total_pizza_sold =  df['quantity'].sum()\n",
    "\n",
    "print(\"Total pizza sold:\",Total_pizza_sold)"
   ]
  },
  {
   "cell_type": "code",
   "execution_count": 32,
   "id": "43be9ef7",
   "metadata": {},
   "outputs": [
    {
     "name": "stdout",
     "output_type": "stream",
     "text": [
      "Total Orders Placed: 21350\n"
     ]
    }
   ],
   "source": [
    "#Q4. Calculate Total Orders Placed.\n",
    "\n",
    "df=pd.DataFrame(data)\n",
    "\n",
    "# Calculate the total pizza sold without duplicates\n",
    "\n",
    "Total_ORDERS =  df['order_id'].value_counts().count()\n",
    "\n",
    "#print total orders places\n",
    "\n",
    "print(\"Total Orders Placed:\",Total_ORDERS)"
   ]
  },
  {
   "cell_type": "code",
   "execution_count": 34,
   "id": "5aea6d8e",
   "metadata": {},
   "outputs": [
    {
     "name": "stdout",
     "output_type": "stream",
     "text": [
      "2.321967213114754\n"
     ]
    }
   ],
   "source": [
    "#Q5. Calculate the Average Order Placed\n",
    "\n",
    "df=pd.DataFrame(data)\n",
    "\n",
    "# Calculate the  Average Order Placed sold without duplicates in order id.\n",
    "\n",
    "Avg_ord_place = df['quantity'].sum()/ df['order_id'].value_counts().count()\n",
    "\n",
    "#print Average Order Placed\n",
    "\n",
    "print(\"Average Order Placed is:\",Avg_ord_place)"
   ]
  },
  {
   "cell_type": "code",
   "execution_count": 37,
   "id": "3f829734",
   "metadata": {},
   "outputs": [
    {
     "name": "stdout",
     "output_type": "stream",
     "text": [
      "    hour  total_pizzas_sold\n",
      "0      9                  4\n",
      "1     10                 18\n",
      "2     11               2728\n",
      "3     12               6776\n",
      "4     13               6413\n",
      "5     14               3613\n",
      "6     15               3216\n",
      "7     16               4239\n",
      "8     17               5211\n",
      "9     18               5417\n",
      "10    19               4406\n",
      "11    20               3534\n",
      "12    21               2545\n",
      "13    22               1386\n",
      "14    23                 68\n"
     ]
    }
   ],
   "source": [
    "#Q6. Hourly Trend for Total Pizzas sold\n",
    "\n",
    "\n",
    "df=pd.DataFrame(data)\n",
    "\n",
    "# Convert 'order_time' to datetime if it's not already in datetime format\n",
    "df['order_time'] = pd.to_datetime(df['order_time'])\n",
    "\n",
    "# Extract the hour from 'order_time' and create a new 'hour' column from order_time\n",
    "df['hour'] = df['order_time'].dt.hour\n",
    "\n",
    "# Group by 'hour' and calculate the sum of 'quantity' for each hour\n",
    "result = df.groupby('hour')['quantity'].sum().reset_index()\n",
    "\n",
    "# Rename the columns \n",
    "result.rename(columns={'hour': 'hour', 'quantity': 'total_pizzas_sold'}, inplace=True)\n",
    "\n",
    "# Order the result by 'hour'\n",
    "result = result.sort_values(by='hour')\n",
    "\n",
    "# Print the result\n",
    "print(result)\n"
   ]
  },
  {
   "cell_type": "code",
   "execution_count": 41,
   "id": "a7329d11",
   "metadata": {},
   "outputs": [
    {
     "name": "stdout",
     "output_type": "stream",
     "text": [
      "    Week_number  Order_year  Total_ords\n",
      "0             0        2015         205\n",
      "1             1        2015         499\n",
      "2             2        2015         410\n",
      "3             3        2015         422\n",
      "4             4        2015         393\n",
      "5             5        2015         440\n",
      "6             6        2015         400\n",
      "7             7        2015         411\n",
      "8             8        2015         397\n",
      "9             9        2015         438\n",
      "10           10        2015         410\n",
      "11           11        2015         428\n",
      "12           12        2015         410\n",
      "13           13        2015         412\n",
      "14           14        2015         441\n",
      "15           15        2015         436\n",
      "16           16        2015         431\n",
      "17           17        2015         401\n",
      "18           18        2015         392\n",
      "19           19        2015         406\n",
      "20           20        2015         404\n",
      "21           21        2015         399\n",
      "22           22        2015         422\n",
      "23           23        2015         419\n",
      "24           24        2015         407\n",
      "25           25        2015         422\n",
      "26           26        2015         389\n",
      "27           27        2015         413\n",
      "28           28        2015         426\n",
      "29           29        2015         429\n",
      "30           30        2015         426\n",
      "31           31        2015         439\n",
      "32           32        2015         416\n",
      "33           33        2015         409\n",
      "34           34        2015         401\n",
      "35           35        2015         378\n",
      "36           36        2015         423\n",
      "37           37        2015         424\n",
      "38           38        2015         275\n",
      "39           39        2015         419\n",
      "40           40        2015         421\n",
      "41           41        2015         465\n",
      "42           42        2015         352\n",
      "43           43        2015         361\n",
      "44           44        2015         427\n",
      "45           45        2015         429\n",
      "46           46        2015         394\n",
      "47           47        2015         488\n",
      "48           48        2015         385\n",
      "49           49        2015         355\n",
      "50           50        2015         429\n",
      "51           51        2015         316\n",
      "52           52        2015         206\n"
     ]
    }
   ],
   "source": [
    "#Q7. Weekly Trend for Total Pizzas ordered\n",
    "\n",
    "\n",
    "df=pd.DataFrame(data)\n",
    "\n",
    "# Convert 'order_date' to datetime if it's not already in datetime format\n",
    "df['order_date'] = pd.to_datetime(df['order_date'], format='%d/%m/%Y')\n",
    "\n",
    "\n",
    "# Extract the ISO week and year from 'order_date' and create new columns\n",
    "df['Week_number'] = df['order_date'].dt.strftime('%U').astype(int)\n",
    "df['Order_year'] = df['order_date'].dt.year\n",
    "\n",
    "# Group by 'Week_number' and 'Order_year' and calculate the count of distinct 'order_id'\n",
    "result = df.groupby(['Week_number', 'Order_year'])['order_id'].nunique().reset_index()\n",
    "\n",
    "# Rename the columns \n",
    "result.rename(columns={'Week_number': 'Week_number', 'Order_year': 'Order_year', 'order_id': 'Total_ords'}, inplace=True)\n",
    "\n",
    "# Order the result by 'Week_number' and 'Order_year'\n",
    "result = result.sort_values(by=['Week_number', 'Order_year'])\n",
    "\n",
    "# Print the result\n",
    "print(result)\n",
    "\n"
   ]
  },
  {
   "cell_type": "code",
   "execution_count": 42,
   "id": "6770eab1",
   "metadata": {},
   "outputs": [
    {
     "name": "stdout",
     "output_type": "stream",
     "text": [
      "  pizza_category  total_price\n",
      "0        Chicken    23.955138\n",
      "1        Classic    26.905960\n",
      "2        Supreme    25.456311\n",
      "3         Veggie    23.682591\n"
     ]
    }
   ],
   "source": [
    "#Q8. Total pizza sales percentage with respect to their own category.\n",
    "\n",
    "df=pd.DataFrame(data)\n",
    "\n",
    "\n",
    "# Calculate the total sales across all categories\n",
    "total_sales = df['total_price'].sum()\n",
    "\n",
    "# Calculate the total sales percentage for each pizza category\n",
    "result = df.groupby('pizza_category')['total_price'].sum() * 100 / total_sales\n",
    "\n",
    "# Reset the index to have 'pizza_category' as a regular column\n",
    "result = result.reset_index()\n",
    "\n",
    "# Rename the columns \n",
    "result.rename(columns={'pizza_category': 'pizza_category', 0: 'total_sales_percentage'}, inplace=True)\n",
    "\n",
    "# Print the result\n",
    "print(result)\n"
   ]
  },
  {
   "cell_type": "code",
   "execution_count": 43,
   "id": "33e05f83",
   "metadata": {},
   "outputs": [
    {
     "name": "stdout",
     "output_type": "stream",
     "text": [
      "  pizza_category  total_price\n",
      "0        Chicken    24.127042\n",
      "1        Classic    26.799017\n",
      "2        Supreme    25.006607\n",
      "3         Veggie    24.067334\n"
     ]
    }
   ],
   "source": [
    "#Q9. Total pizza sales percentage with respect to their own category within the first quarter.\n",
    "\n",
    "df=pd.DataFrame(data)\n",
    "\n",
    "\n",
    "df_first_quarter = df[df['order_date'].dt.quarter == 1]\n",
    "\n",
    "# Calculate the total sales for the first quarter\n",
    "total_sales_first_quarter = df_first_quarter['total_price'].sum()\n",
    "\n",
    "# Calculate the total sales percentage for each pizza category within the first quarter\n",
    "result = df_first_quarter.groupby('pizza_category')['total_price'].sum() * 100 / total_sales_first_quarter\n",
    "\n",
    "# Reset the index to have 'pizza_category' as a regular column\n",
    "result = result.reset_index()\n",
    "\n",
    "# Rename the columns \n",
    "result.rename(columns={'pizza_category': 'pizza_category', 0: 'total_sales_percentage'}, inplace=True)\n",
    "\n",
    "# Print the result\n",
    "print(result)\n"
   ]
  },
  {
   "cell_type": "code",
   "execution_count": 46,
   "id": "70daea38",
   "metadata": {},
   "outputs": [
    {
     "name": "stdout",
     "output_type": "stream",
     "text": [
      "  pizza_size  total_sales_percentage\n",
      "0          L                   45.89\n",
      "1          M                   30.49\n",
      "2          S                   21.77\n",
      "3         XL                    1.72\n",
      "4        XXL                    0.12\n"
     ]
    }
   ],
   "source": [
    "#Q10. Total pizza sales percentage with respect to their own size.\n",
    "\n",
    "df=pd.DataFrame(data)\n",
    "\n",
    "total_sales = df['total_price'].sum()\n",
    "\n",
    "# Calculate the total sales percentage for each pizza size\n",
    "\n",
    "result = df.groupby('pizza_size')['total_price'].sum() * 100 / total_sales\n",
    "\n",
    "# Reset the index to have 'pizza_size' as a regular column\n",
    "\n",
    "result = result.reset_index()\n",
    "\n",
    "# Rename the columns \n",
    "\n",
    "result.rename(columns={'pizza_size': 'pizza_size', 'total_price': 'total_sales_percentage'}, inplace=True)\n",
    "\n",
    "# Round the 'total_sales_percentage' column to two decimal places\n",
    "\n",
    "result['total_sales_percentage'] = result['total_sales_percentage'].round(2)\n",
    "\n",
    "# Order the result by 'total_sales_percentage' in descending order\n",
    "\n",
    "result = result.sort_values(by='total_sales_percentage', ascending=False)\n",
    "\n",
    "# Print the result\n",
    "\n",
    "print(result)\n"
   ]
  },
  {
   "cell_type": "code",
   "execution_count": 47,
   "id": "5d1b8d2b",
   "metadata": {},
   "outputs": [
    {
     "name": "stdout",
     "output_type": "stream",
     "text": [
      "                      pizza_name  TOTAL_SALES\n",
      "30        The Thai Chicken Pizza     43434.25\n",
      "0     The Barbecue Chicken Pizza     42768.00\n",
      "4   The California Chicken Pizza     41409.50\n",
      "7       The Classic Deluxe Pizza     38180.50\n",
      "26       The Spicy Italian Pizza     34831.25\n",
      "25   The Southwest Chicken Pizza     34705.75\n",
      "14     The Italian Supreme Pizza     33476.75\n",
      "12            The Hawaiian Pizza     32273.25\n",
      "9          The Four Cheese Pizza     32265.70\n",
      "23            The Sicilian Pizza     30940.50\n"
     ]
    }
   ],
   "source": [
    "#Q11. Top 10 best sellers by total sales, total quantity, and orders\n",
    "\n",
    "df=pd.DataFrame(data)\n",
    "\n",
    "# Group by 'pizza_name' and calculate the sum of 'total_price' for each pizza\n",
    "\n",
    "result = df.groupby('pizza_name')['total_price'].sum().reset_index()\n",
    "\n",
    "# Rename the columns \n",
    "\n",
    "result.rename(columns={'pizza_name': 'pizza_name', 'total_price': 'TOTAL_SALES'}, inplace=True)\n",
    "\n",
    "# Sort the result by 'TOTAL_SALES' in descending order\n",
    "\n",
    "result = result.sort_values(by='TOTAL_SALES', ascending=False)\n",
    "\n",
    "# Retrieve the top 10 rows\n",
    "\n",
    "top_10_result = result.head(10)\n",
    "\n",
    "# Print the top 10 pizza names and their total sales\n",
    "\n",
    "print(top_10_result)\n"
   ]
  },
  {
   "cell_type": "code",
   "execution_count": 48,
   "id": "237dce10",
   "metadata": {},
   "outputs": [
    {
     "name": "stdout",
     "output_type": "stream",
     "text": [
      "                      pizza_name  TOTAL_QUANTITY\n",
      "7       The Classic Deluxe Pizza            2453\n",
      "0     The Barbecue Chicken Pizza            2432\n",
      "12            The Hawaiian Pizza            2422\n",
      "20           The Pepperoni Pizza            2418\n",
      "30        The Thai Chicken Pizza            2371\n",
      "4   The California Chicken Pizza            2370\n",
      "23            The Sicilian Pizza            1938\n",
      "26       The Spicy Italian Pizza            1924\n",
      "25   The Southwest Chicken Pizza            1917\n",
      "1             The Big Meat Pizza            1914\n"
     ]
    }
   ],
   "source": [
    "#Q11(a). Total quantity\n",
    "\n",
    "df=pd.DataFrame(data)\n",
    "\n",
    "# Group by 'pizza_name' and calculate the sum of 'quantity' for each pizza\n",
    "\n",
    "result = df.groupby('pizza_name')['quantity'].sum().reset_index()\n",
    "\n",
    "# Rename the columns \n",
    "\n",
    "result.rename(columns={'pizza_name': 'pizza_name', 'quantity': 'TOTAL_QUANTITY'}, inplace=True)\n",
    "\n",
    "# Sort the result by 'TOTAL_QUANTITY' in descending order\n",
    "\n",
    "result = result.sort_values(by='TOTAL_QUANTITY', ascending=False)\n",
    "\n",
    "# Retrieve the top 10 rows\n",
    "\n",
    "top_10_result = result.head(10)\n",
    "\n",
    "# Print the top 10 pizza names and their total quantity sold\n",
    "\n",
    "print(top_10_result)\n"
   ]
  },
  {
   "cell_type": "code",
   "execution_count": 49,
   "id": "1169c57b",
   "metadata": {},
   "outputs": [
    {
     "name": "stdout",
     "output_type": "stream",
     "text": [
      "                      pizza_name  TOTAL_ORDS\n",
      "7       The Classic Deluxe Pizza        2329\n",
      "12            The Hawaiian Pizza        2280\n",
      "20           The Pepperoni Pizza        2278\n",
      "0     The Barbecue Chicken Pizza        2273\n",
      "30        The Thai Chicken Pizza        2225\n",
      "4   The California Chicken Pizza        2197\n",
      "25   The Southwest Chicken Pizza        1825\n",
      "26       The Spicy Italian Pizza        1822\n",
      "23            The Sicilian Pizza        1820\n",
      "1             The Big Meat Pizza        1811\n"
     ]
    }
   ],
   "source": [
    "#Q11(b). Total Orders\n",
    "\n",
    "df=pd.DataFrame(data)\n",
    "\n",
    "# Group by 'pizza_name' and calculate the count of distinct 'order_id' for each pizza\n",
    "\n",
    "result = df.groupby('pizza_name')['order_id'].nunique().reset_index()\n",
    "\n",
    "# Rename the columns \n",
    "\n",
    "result.rename(columns={'pizza_name': 'pizza_name', 'order_id': 'TOTAL_ORDS'}, inplace=True)\n",
    "\n",
    "# Sort the result by 'TOTAL_ORDS' in descending order\n",
    "\n",
    "result = result.sort_values(by='TOTAL_ORDS', ascending=False)\n",
    "\n",
    "# Retrieve the top 10 rows\n",
    "\n",
    "top_10_result = result.head(10)\n",
    "\n",
    "# Print the top 10 pizza names and their total orders (distinct order IDs)\n",
    "\n",
    "print(top_10_result)"
   ]
  },
  {
   "cell_type": "code",
   "execution_count": 53,
   "id": "aa516402",
   "metadata": {},
   "outputs": [
    {
     "name": "stdout",
     "output_type": "stream",
     "text": [
      "                      pizza_name  TOTAL_SALES\n",
      "2           The Brie Carre Pizza     11588.50\n",
      "11        The Green Garden Pizza     13955.75\n",
      "28     The Spinach Supreme Pizza     15277.75\n",
      "16       The Mediterranean Pizza     15360.50\n",
      "27       The Spinach Pesto Pizza     15596.00\n",
      "3            The Calabrese Pizza     15934.25\n",
      "15  The Italian Vegetables Pizza     16019.25\n",
      "24         The Soppressata Pizza     16425.75\n",
      "6        The Chicken Pesto Pizza     16701.75\n",
      "5      The Chicken Alfredo Pizza     16900.25\n"
     ]
    }
   ],
   "source": [
    "#Q12. Bottom 10 best sellers by total sales, total quantity, and orders.\n",
    "\n",
    "df=pd.DataFrame(data)\n",
    "\n",
    "# Group by 'pizza_name' and calculate the sum of 'total_price' for each pizza\n",
    "\n",
    "result = df.groupby('pizza_name')['total_price'].sum().reset_index()\n",
    "\n",
    "# Rename the columns \n",
    "\n",
    "result.rename(columns={'pizza_name': 'pizza_name', 'total_price': 'TOTAL_SALES'}, inplace=True)\n",
    "\n",
    "# Sort the result by 'TOTAL_SALES' in ascending order\n",
    "\n",
    "result = result.sort_values(by='TOTAL_SALES', ascending=True)\n",
    "\n",
    "# Retrieve the top 10 rows\n",
    "\n",
    "top_10_result = result.head(10)\n",
    "\n",
    "# Print the top 10 pizza names and their total sales\n",
    "\n",
    "print(top_10_result)"
   ]
  },
  {
   "cell_type": "code",
   "execution_count": 54,
   "id": "faa29633",
   "metadata": {},
   "outputs": [
    {
     "name": "stdout",
     "output_type": "stream",
     "text": [
      "                      pizza_name  TOTAL_QUANTITY\n",
      "2           The Brie Carre Pizza             490\n",
      "16       The Mediterranean Pizza             934\n",
      "3            The Calabrese Pizza             937\n",
      "28     The Spinach Supreme Pizza             950\n",
      "24         The Soppressata Pizza             961\n",
      "27       The Spinach Pesto Pizza             970\n",
      "6        The Chicken Pesto Pizza             973\n",
      "15  The Italian Vegetables Pizza             981\n",
      "5      The Chicken Alfredo Pizza             987\n",
      "11        The Green Garden Pizza             997\n"
     ]
    }
   ],
   "source": [
    "#Q12(a).FOR QUANTITY\n",
    "\n",
    "df=pd.DataFrame(data)\n",
    "\n",
    "result = df.groupby('pizza_name')['quantity'].sum().reset_index()\n",
    "\n",
    "# Rename the columns \n",
    "\n",
    "result.rename(columns={'pizza_name': 'pizza_name', 'quantity': 'TOTAL_QUANTITY'}, inplace=True)\n",
    "\n",
    "# Sort the result by 'TOTAL_QUANTITY' in ascending order\n",
    "\n",
    "result = result.sort_values(by='TOTAL_QUANTITY', ascending=True)\n",
    "\n",
    "# Retrieve the top 10 rows\n",
    "\n",
    "top_10_result = result.head(10)\n",
    "\n",
    "# Print the top 10 pizza names and their total quantity sold\n",
    "\n",
    "print(top_10_result)"
   ]
  },
  {
   "cell_type": "code",
   "execution_count": 4,
   "id": "ac8b906a",
   "metadata": {},
   "outputs": [],
   "source": [
    "\n",
    "data = pd.read_csv(r\"C:\\Users\\gbhar\\OneDrive\\Desktop\\pizza_sales.csv\")"
   ]
  },
  {
   "cell_type": "code",
   "execution_count": 5,
   "id": "525602b7",
   "metadata": {},
   "outputs": [
    {
     "name": "stdout",
     "output_type": "stream",
     "text": [
      "                      pizza_name  TOTAL_ORDS\n",
      "2           The Brie Carre Pizza         480\n",
      "16       The Mediterranean Pizza         912\n",
      "3            The Calabrese Pizza         918\n",
      "28     The Spinach Supreme Pizza         918\n",
      "6        The Chicken Pesto Pizza         938\n",
      "24         The Soppressata Pizza         941\n",
      "27       The Spinach Pesto Pizza         945\n",
      "15  The Italian Vegetables Pizza         952\n",
      "5      The Chicken Alfredo Pizza         967\n",
      "11        The Green Garden Pizza         976\n"
     ]
    }
   ],
   "source": [
    "#Q12(b) For Orders\n",
    "\n",
    "import pandas as pd\n",
    "\n",
    "\n",
    "df=pd.DataFrame(data)\n",
    "\n",
    "# Group by 'pizza_name' and calculate the count of distinct 'order_id' for each pizza\n",
    "\n",
    "result = df.groupby('pizza_name')['order_id'].nunique().reset_index()\n",
    "\n",
    "# Rename the columns \n",
    "\n",
    "result.rename(columns={'pizza_name': 'pizza_name', 'order_id': 'TOTAL_ORDS'}, inplace=True)\n",
    "\n",
    "# Sort the result by 'TOTAL_ORDS' in ascending order\n",
    "\n",
    "result = result.sort_values(by='TOTAL_ORDS', ascending=True)\n",
    "\n",
    "# Retrieve the top 10 rows\n",
    "\n",
    "top_10_result = result.head(10)\n",
    "\n",
    "# Print the top 10 pizza names and their total orders (distinct order IDs)\n",
    "\n",
    "print(top_10_result)\n"
   ]
  },
  {
   "cell_type": "code",
   "execution_count": null,
   "id": "531688a3",
   "metadata": {},
   "outputs": [],
   "source": []
  }
 ],
 "metadata": {
  "kernelspec": {
   "display_name": "Python 3 (ipykernel)",
   "language": "python",
   "name": "python3"
  },
  "language_info": {
   "codemirror_mode": {
    "name": "ipython",
    "version": 3
   },
   "file_extension": ".py",
   "mimetype": "text/x-python",
   "name": "python",
   "nbconvert_exporter": "python",
   "pygments_lexer": "ipython3",
   "version": "3.11.4"
  }
 },
 "nbformat": 4,
 "nbformat_minor": 5
}
